{
    "metadata": {
        "kernelspec": {
            "name": "SQL",
            "display_name": "SQL",
            "language": "sql"
        },
        "language_info": {
            "name": "sql",
            "version": ""
        }
    },
    "nbformat_minor": 2,
    "nbformat": 4,
    "cells": [
        {
            "cell_type": "markdown",
            "source": [
                "### <span style=\"font-size: 16.38px;\"><b>Challenge 3 - Customer Insights</b></span>"
            ],
            "metadata": {
                "language": "sql",
                "azdata_cell_guid": "69032c87-b831-489a-9777-66c6c74d60e9"
            },
            "attachments": {}
        },
        {
            "cell_type": "markdown",
            "source": [
                "<span style=\"color: #608b4e;\">1. What are the names of all the countries in the country table?</span>"
            ],
            "metadata": {
                "language": "sql",
                "azdata_cell_guid": "8ff7f1e7-acde-44e0-8b80-1a24e94c9951"
            },
            "attachments": {}
        },
        {
            "cell_type": "code",
            "source": [
                "SELECT DISTINCT country_name AS Countires\r\n",
                "FROM country;"
            ],
            "metadata": {
                "azdata_cell_guid": "8502904e-90e6-4a33-8229-febf9dd7223f",
                "language": "sql"
            },
            "outputs": [
                {
                    "output_type": "display_data",
                    "data": {
                        "text/html": "(3 row(s) affected)"
                    },
                    "metadata": {}
                },
                {
                    "output_type": "display_data",
                    "data": {
                        "text/html": "Total execution time: 00:00:01.044"
                    },
                    "metadata": {}
                },
                {
                    "output_type": "execute_result",
                    "execution_count": 12,
                    "data": {
                        "application/vnd.dataresource+json": {
                            "schema": {
                                "fields": [
                                    {
                                        "name": "Countires"
                                    }
                                ]
                            },
                            "data": [
                                {
                                    "0": "UK"
                                },
                                {
                                    "0": "USA"
                                },
                                {
                                    "0": "China"
                                }
                            ]
                        },
                        "text/html": "<table><tr><th>Countires</th></tr><tr><td>UK</td></tr><tr><td>USA</td></tr><tr><td>China</td></tr></table>"
                    },
                    "metadata": {}
                }
            ],
            "execution_count": 12
        },
        {
            "cell_type": "markdown",
            "source": [
                "<span style=\"color: #608b4e;\">2. What is the total number of customers in the customers table?</span>"
            ],
            "metadata": {
                "azdata_cell_guid": "feede3ce-a8ca-403a-8a6e-2519c145d266"
            },
            "attachments": {}
        },
        {
            "cell_type": "code",
            "source": [
                "SELECT COUNT(DISTINCT customer_id) AS 'Total Customers'\r\n",
                "FROM customers;"
            ],
            "metadata": {
                "azdata_cell_guid": "5f9fd88b-681b-4eae-9178-ea1768f2f24a",
                "language": "sql"
            },
            "outputs": [
                {
                    "output_type": "display_data",
                    "data": {
                        "text/html": "(1 row(s) affected)"
                    },
                    "metadata": {}
                },
                {
                    "output_type": "display_data",
                    "data": {
                        "text/html": "Total execution time: 00:00:01.003"
                    },
                    "metadata": {}
                },
                {
                    "output_type": "execute_result",
                    "execution_count": 13,
                    "data": {
                        "application/vnd.dataresource+json": {
                            "schema": {
                                "fields": [
                                    {
                                        "name": "Total Customers"
                                    }
                                ]
                            },
                            "data": [
                                {
                                    "0": "8"
                                }
                            ]
                        },
                        "text/html": "<table><tr><th>Total Customers</th></tr><tr><td>8</td></tr></table>"
                    },
                    "metadata": {}
                }
            ],
            "execution_count": 13
        },
        {
            "cell_type": "markdown",
            "source": [
                "<span style=\"color: #608b4e;\">3. What is the average age of customers who can receive marketing emails (can_email is set to 'yes')?</span>"
            ],
            "metadata": {
                "azdata_cell_guid": "b550a4af-c460-4ce6-ac0c-ef517c6a0585"
            },
            "attachments": {}
        },
        {
            "cell_type": "code",
            "source": [
                "SELECT AVG(age) AS 'Average Age'\r\n",
                "FROM customers \r\n",
                "WHERE can_email = 'yes';"
            ],
            "metadata": {
                "azdata_cell_guid": "0cd0eb01-afe6-45d7-90ef-9b7cb6b56a0b",
                "language": "sql"
            },
            "outputs": [
                {
                    "output_type": "display_data",
                    "data": {
                        "text/html": "(1 row(s) affected)"
                    },
                    "metadata": {}
                },
                {
                    "output_type": "display_data",
                    "data": {
                        "text/html": "Total execution time: 00:00:01.017"
                    },
                    "metadata": {}
                },
                {
                    "output_type": "execute_result",
                    "execution_count": 14,
                    "data": {
                        "application/vnd.dataresource+json": {
                            "schema": {
                                "fields": [
                                    {
                                        "name": "Average Age"
                                    }
                                ]
                            },
                            "data": [
                                {
                                    "0": "37.0000"
                                }
                            ]
                        },
                        "text/html": "<table><tr><th>Average Age</th></tr><tr><td>37.0000</td></tr></table>"
                    },
                    "metadata": {}
                }
            ],
            "execution_count": 14
        },
        {
            "cell_type": "markdown",
            "source": [
                "<span style=\"color: #608b4e;\">4. How many orders were made by customers aged 30 or older?</span>"
            ],
            "metadata": {
                "azdata_cell_guid": "34edfa87-f43c-4fea-9cb2-837f2971c1ac"
            },
            "attachments": {}
        },
        {
            "cell_type": "code",
            "source": [
                "-- Using JOIN\r\n",
                "\r\n",
                "SELECT COUNT(order_id) AS 'Orders by Customers Aged 30+'\r\n",
                "FROM customers c \r\n",
                "JOIN orders o ON c.customer_id = o.customer_id\r\n",
                "WHERE age >=30;"
            ],
            "metadata": {
                "azdata_cell_guid": "e4c2dbf4-a46e-423f-9123-57ae38931597",
                "language": "sql"
            },
            "outputs": [
                {
                    "output_type": "display_data",
                    "data": {
                        "text/html": "(1 row(s) affected)"
                    },
                    "metadata": {}
                },
                {
                    "output_type": "display_data",
                    "data": {
                        "text/html": "Total execution time: 00:00:01.015"
                    },
                    "metadata": {}
                },
                {
                    "output_type": "execute_result",
                    "metadata": {},
                    "execution_count": 5,
                    "data": {
                        "application/vnd.dataresource+json": {
                            "schema": {
                                "fields": [
                                    {
                                        "name": "Orders by Customers Aged 30+"
                                    }
                                ]
                            },
                            "data": [
                                {
                                    "0": "3"
                                }
                            ]
                        },
                        "text/html": [
                            "<table>",
                            "<tr><th>Orders by Customers Aged 30+</th></tr>",
                            "<tr><td>3</td></tr>",
                            "</table>"
                        ]
                    }
                }
            ],
            "execution_count": 5
        },
        {
            "cell_type": "code",
            "source": [
                "-- Using SUBQUERY\r\n",
                "\r\n",
                "SELECT COUNT(*) AS 'Orders by Customers Aged 30+'\r\n",
                "FROM orders \r\n",
                "WHERE customer_id IN (SELECT customer_id FROM customers WHERE age >= 30);"
            ],
            "metadata": {
                "language": "sql",
                "azdata_cell_guid": "18d79310-565f-41b3-8a4d-deb257f4d965"
            },
            "outputs": [
                {
                    "output_type": "display_data",
                    "data": {
                        "text/html": "(1 row(s) affected)"
                    },
                    "metadata": {}
                },
                {
                    "output_type": "display_data",
                    "data": {
                        "text/html": "Total execution time: 00:00:01.018"
                    },
                    "metadata": {}
                },
                {
                    "output_type": "execute_result",
                    "metadata": {},
                    "execution_count": 4,
                    "data": {
                        "application/vnd.dataresource+json": {
                            "schema": {
                                "fields": [
                                    {
                                        "name": "Orders by Customers Aged 30+"
                                    }
                                ]
                            },
                            "data": [
                                {
                                    "0": "3"
                                }
                            ]
                        },
                        "text/html": [
                            "<table>",
                            "<tr><th>Orders by Customers Aged 30+</th></tr>",
                            "<tr><td>3</td></tr>",
                            "</table>"
                        ]
                    }
                }
            ],
            "execution_count": 4
        },
        {
            "cell_type": "markdown",
            "source": [
                "<span style=\"color: #608b4e;\">5. What is the total revenue generated by each product category?</span>"
            ],
            "metadata": {
                "azdata_cell_guid": "e8eed69e-5378-4aef-b270-90ba090861e1"
            },
            "attachments": {}
        },
        {
            "cell_type": "code",
            "source": [
                "SELECT p.category AS 'Product Category', SUM(p.price) AS 'Total Revenue'\r\n",
                "FROM products p\r\n",
                "JOIN baskets b ON p.product_id = b.product_id\r\n",
                "GROUP BY p.category;"
            ],
            "metadata": {
                "azdata_cell_guid": "966c8b83-e9fb-4d0f-acb4-8c1b988e3273",
                "language": "sql",
                "tags": []
            },
            "outputs": [
                {
                    "output_type": "display_data",
                    "data": {
                        "text/html": "(3 row(s) affected)"
                    },
                    "metadata": {}
                },
                {
                    "output_type": "display_data",
                    "data": {
                        "text/html": "Total execution time: 00:00:01.015"
                    },
                    "metadata": {}
                },
                {
                    "output_type": "execute_result",
                    "execution_count": 16,
                    "data": {
                        "application/vnd.dataresource+json": {
                            "schema": {
                                "fields": [
                                    {
                                        "name": "Product Category"
                                    },
                                    {
                                        "name": "Total Revenue"
                                    }
                                ]
                            },
                            "data": [
                                {
                                    "0": "food",
                                    "1": "25.74"
                                },
                                {
                                    "0": "sports",
                                    "1": "37.47"
                                },
                                {
                                    "0": "vitamins",
                                    "1": "66.93"
                                }
                            ]
                        },
                        "text/html": "<table><tr><th>Product Category</th><th>Total Revenue</th></tr><tr><td>food</td><td>25.74</td></tr><tr><td>sports</td><td>37.47</td></tr><tr><td>vitamins</td><td>66.93</td></tr></table>"
                    },
                    "metadata": {}
                }
            ],
            "execution_count": 16
        },
        {
            "cell_type": "markdown",
            "source": [
                "<span style=\"color: #608b4e;\">6. What is the average price of products in the 'food' category?</span>"
            ],
            "metadata": {
                "azdata_cell_guid": "c8dcad8d-ec6a-4b54-a144-a827ab10467b"
            },
            "attachments": {}
        },
        {
            "cell_type": "code",
            "source": [
                "SELECT AVG(price) AS 'Average Price'\r\n",
                "FROM products\r\n",
                "WHERE Category = 'food';"
            ],
            "metadata": {
                "azdata_cell_guid": "99f3bed3-0ada-4f60-9b2a-fb58133776f1",
                "language": "sql"
            },
            "outputs": [
                {
                    "output_type": "display_data",
                    "data": {
                        "text/html": "(1 row(s) affected)"
                    },
                    "metadata": {}
                },
                {
                    "output_type": "display_data",
                    "data": {
                        "text/html": "Total execution time: 00:00:01.015"
                    },
                    "metadata": {}
                },
                {
                    "output_type": "execute_result",
                    "execution_count": 17,
                    "data": {
                        "application/vnd.dataresource+json": {
                            "schema": {
                                "fields": [
                                    {
                                        "name": "Average Price"
                                    }
                                ]
                            },
                            "data": [
                                {
                                    "0": "3.440000"
                                }
                            ]
                        },
                        "text/html": "<table><tr><th>Average Price</th></tr><tr><td>3.440000</td></tr></table>"
                    },
                    "metadata": {}
                }
            ],
            "execution_count": 17
        },
        {
            "cell_type": "markdown",
            "source": [
                "<span style=\"color: #608b4e;\">7. How many orders were made in each sales channel (sales_channel column) in the orders table?</span>"
            ],
            "metadata": {
                "azdata_cell_guid": "a25a0320-ba7d-4763-8448-2bb9f3518af2"
            },
            "attachments": {}
        },
        {
            "cell_type": "code",
            "source": [
                "SELECT sales_channel AS 'Sales Channel', COUNT(order_id) AS 'Number of Orders'\r\n",
                "FROM orders\r\n",
                "GROUP BY sales_channel\r\n",
                "ORDER BY COUNT(order_id);"
            ],
            "metadata": {
                "azdata_cell_guid": "781b8500-f1e8-4864-92fb-adaa29ee2ace",
                "language": "sql"
            },
            "outputs": [
                {
                    "output_type": "display_data",
                    "data": {
                        "text/html": "(2 row(s) affected)"
                    },
                    "metadata": {}
                },
                {
                    "output_type": "display_data",
                    "data": {
                        "text/html": "Total execution time: 00:00:01.011"
                    },
                    "metadata": {}
                },
                {
                    "output_type": "execute_result",
                    "metadata": {},
                    "execution_count": 8,
                    "data": {
                        "application/vnd.dataresource+json": {
                            "schema": {
                                "fields": [
                                    {
                                        "name": "Sales Channel"
                                    },
                                    {
                                        "name": "Number of Orders"
                                    }
                                ]
                            },
                            "data": [
                                {
                                    "0": "online",
                                    "1": "3"
                                },
                                {
                                    "0": "retail",
                                    "1": "5"
                                }
                            ]
                        },
                        "text/html": [
                            "<table>",
                            "<tr><th>Sales Channel</th><th>Number of Orders</th></tr>",
                            "<tr><td>online</td><td>3</td></tr>",
                            "<tr><td>retail</td><td>5</td></tr>",
                            "</table>"
                        ]
                    }
                }
            ],
            "execution_count": 8
        },
        {
            "cell_type": "code",
            "source": [
                "SELECT sales_channel, COUNT(*) AS 'Number of Orders' \r\n",
                "FROM orders \r\n",
                "GROUP BY sales_channel;"
            ],
            "metadata": {
                "language": "sql",
                "azdata_cell_guid": "d8137a2c-ba51-4825-ba92-e466872fa328"
            },
            "outputs": [
                {
                    "output_type": "display_data",
                    "data": {
                        "text/html": "(2 row(s) affected)"
                    },
                    "metadata": {}
                },
                {
                    "output_type": "display_data",
                    "data": {
                        "text/html": "Total execution time: 00:00:01.013"
                    },
                    "metadata": {}
                },
                {
                    "output_type": "execute_result",
                    "metadata": {},
                    "execution_count": 7,
                    "data": {
                        "application/vnd.dataresource+json": {
                            "schema": {
                                "fields": [
                                    {
                                        "name": "sales_channel"
                                    },
                                    {
                                        "name": "Number of Orders"
                                    }
                                ]
                            },
                            "data": [
                                {
                                    "0": "retail",
                                    "1": "5"
                                },
                                {
                                    "0": "online",
                                    "1": "3"
                                }
                            ]
                        },
                        "text/html": [
                            "<table>",
                            "<tr><th>sales_channel</th><th>Number of Orders</th></tr>",
                            "<tr><td>retail</td><td>5</td></tr>",
                            "<tr><td>online</td><td>3</td></tr>",
                            "</table>"
                        ]
                    }
                }
            ],
            "execution_count": 7
        },
        {
            "cell_type": "markdown",
            "source": [
                "<span style=\"color: #608b4e;\">8.What is the date of the latest order made by a customer who can receive marketing emails?</span>"
            ],
            "metadata": {
                "azdata_cell_guid": "3f8b5ea6-27a3-493b-b75e-8c665e7ce3aa"
            },
            "attachments": {}
        },
        {
            "cell_type": "code",
            "source": [
                "-- Using JOIN\r\n",
                "\r\n",
                "SELECT MAX(o.date_shop) AS 'Latest Order Date'\r\n",
                "FROM orders o\r\n",
                "JOIN customers c ON c.customer_id = o.customer_id\r\n",
                "WHERE c.can_email = 'yes';"
            ],
            "metadata": {
                "azdata_cell_guid": "0b68dac0-01e1-40e9-b0d7-1d634fb6c607",
                "language": "sql"
            },
            "outputs": [
                {
                    "output_type": "display_data",
                    "data": {
                        "text/html": "(1 row(s) affected)"
                    },
                    "metadata": {}
                },
                {
                    "output_type": "display_data",
                    "data": {
                        "text/html": "Total execution time: 00:00:01.008"
                    },
                    "metadata": {}
                },
                {
                    "output_type": "execute_result",
                    "execution_count": 19,
                    "data": {
                        "application/vnd.dataresource+json": {
                            "schema": {
                                "fields": [
                                    {
                                        "name": "Latest Order Date"
                                    }
                                ]
                            },
                            "data": [
                                {
                                    "0": "2023-02-02"
                                }
                            ]
                        },
                        "text/html": "<table><tr><th>Latest Order Date</th></tr><tr><td>2023-02-02</td></tr></table>"
                    },
                    "metadata": {}
                }
            ],
            "execution_count": 19
        },
        {
            "cell_type": "code",
            "source": [
                "-- Using SUBQUERY\r\n",
                "\r\n",
                "SELECT MAX(date_shop) AS 'Latest Order Date'\r\n",
                "FROM orders \r\n",
                "WHERE customer_id IN (SELECT customer_id FROM customers WHERE can_email = 'yes');\r\n",
                ""
            ],
            "metadata": {
                "language": "sql",
                "azdata_cell_guid": "6e90967b-cd8d-464e-ab28-eda6c03d83a2"
            },
            "outputs": [
                {
                    "output_type": "display_data",
                    "data": {
                        "text/html": "(1 row(s) affected)"
                    },
                    "metadata": {}
                },
                {
                    "output_type": "display_data",
                    "data": {
                        "text/html": "Total execution time: 00:00:01.008"
                    },
                    "metadata": {}
                },
                {
                    "output_type": "execute_result",
                    "metadata": {},
                    "execution_count": 9,
                    "data": {
                        "application/vnd.dataresource+json": {
                            "schema": {
                                "fields": [
                                    {
                                        "name": "Latest Order Date"
                                    }
                                ]
                            },
                            "data": [
                                {
                                    "0": "2023-02-02"
                                }
                            ]
                        },
                        "text/html": [
                            "<table>",
                            "<tr><th>Latest Order Date</th></tr>",
                            "<tr><td>2023-02-02</td></tr>",
                            "</table>"
                        ]
                    }
                }
            ],
            "execution_count": 9
        },
        {
            "cell_type": "markdown",
            "source": [
                "<span style=\"color: #608b4e;\">9. What is the name of the country with the highest number of orders?</span>"
            ],
            "metadata": {
                "azdata_cell_guid": "6034b0c7-2b41-40ce-8888-541e983c6cd8"
            },
            "attachments": {}
        },
        {
            "cell_type": "code",
            "source": [
                "SELECT c.country_name AS 'Country', COUNT(order_id)\r\n",
                "FROM country c\r\n",
                "JOIN orders o ON c.country_id = o.country_id\r\n",
                "GROUP BY c.country_name\r\n",
                "ORDER BY COUNT(order_id) DESC\r\n",
                "LIMIT 1;"
            ],
            "metadata": {
                "azdata_cell_guid": "c51fe758-7572-4420-b74f-fa3c964693cd",
                "language": "sql"
            },
            "outputs": [
                {
                    "output_type": "display_data",
                    "data": {
                        "text/html": "(1 row(s) affected)"
                    },
                    "metadata": {}
                },
                {
                    "output_type": "display_data",
                    "data": {
                        "text/html": "Total execution time: 00:00:01.047"
                    },
                    "metadata": {}
                },
                {
                    "output_type": "execute_result",
                    "execution_count": 20,
                    "data": {
                        "application/vnd.dataresource+json": {
                            "schema": {
                                "fields": [
                                    {
                                        "name": "Country"
                                    },
                                    {
                                        "name": "COUNT(order_id)"
                                    }
                                ]
                            },
                            "data": [
                                {
                                    "0": "UK",
                                    "1": "5"
                                }
                            ]
                        },
                        "text/html": "<table><tr><th>Country</th><th>COUNT(order_id)</th></tr><tr><td>UK</td><td>5</td></tr></table>"
                    },
                    "metadata": {}
                }
            ],
            "execution_count": 20
        },
        {
            "cell_type": "markdown",
            "source": [
                "<span style=\"color: #608b4e;\">10. What is the average age of customers who made orders in the 'vitamins' product category?</span>"
            ],
            "metadata": {
                "azdata_cell_guid": "ab0c9045-bef0-4dd5-ad12-00f341b4705e"
            },
            "attachments": {}
        },
        {
            "cell_type": "code",
            "source": [
                "SELECT ROUND(AVG(c.age), 0) AS 'Average Age'\r\n",
                "FROM customers c\r\n",
                "JOIN orders o ON c.customer_id = o.customer_id\r\n",
                "JOIN baskets b ON b.order_id = o.order_id\r\n",
                "JOIN products p ON p.product_id = b.product_id\r\n",
                "WHERE p.category = 'vitamins';"
            ],
            "metadata": {
                "azdata_cell_guid": "dc93bb74-6562-4777-9354-a90928a3a3db",
                "language": "sql"
            },
            "outputs": [
                {
                    "output_type": "display_data",
                    "data": {
                        "text/html": "(1 row(s) affected)"
                    },
                    "metadata": {}
                },
                {
                    "output_type": "display_data",
                    "data": {
                        "text/html": "Total execution time: 00:00:01.006"
                    },
                    "metadata": {}
                },
                {
                    "output_type": "execute_result",
                    "execution_count": 21,
                    "data": {
                        "application/vnd.dataresource+json": {
                            "schema": {
                                "fields": [
                                    {
                                        "name": "Average Age"
                                    }
                                ]
                            },
                            "data": [
                                {
                                    "0": "30"
                                }
                            ]
                        },
                        "text/html": "<table><tr><th>Average Age</th></tr><tr><td>30</td></tr></table>"
                    },
                    "metadata": {}
                }
            ],
            "execution_count": 21
        }
    ]
}